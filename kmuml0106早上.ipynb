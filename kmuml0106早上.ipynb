{
  "nbformat": 4,
  "nbformat_minor": 0,
  "metadata": {
    "colab": {
      "provenance": [],
      "authorship_tag": "ABX9TyP28vLqiuhEGCpsLfTcYJwL",
      "include_colab_link": true
    },
    "kernelspec": {
      "name": "python3",
      "display_name": "Python 3"
    },
    "language_info": {
      "name": "python"
    }
  },
  "cells": [
    {
      "cell_type": "markdown",
      "metadata": {
        "id": "view-in-github",
        "colab_type": "text"
      },
      "source": [
        "<a href=\"https://colab.research.google.com/github/Elwing-Chou/kmuml/blob/main/kmuml0106%E6%97%A9%E4%B8%8A.ipynb\" target=\"_parent\"><img src=\"https://colab.research.google.com/assets/colab-badge.svg\" alt=\"Open In Colab\"/></a>"
      ]
    },
    {
      "cell_type": "code",
      "execution_count": 1,
      "metadata": {
        "colab": {
          "base_uri": "https://localhost:8080/"
        },
        "id": "MMphqMRGY5vD",
        "outputId": "a4c98159-6e61-47cb-a9fe-5abe135eef53"
      },
      "outputs": [
        {
          "output_type": "execute_result",
          "data": {
            "text/plain": [
              "('data.csv', <http.client.HTTPMessage at 0x797a79f01450>)"
            ]
          },
          "metadata": {},
          "execution_count": 1
        }
      ],
      "source": [
        "from urllib.request import urlretrieve\n",
        "url = \"https://github.com/Elwing-Chou/kmuml/raw/main/data01.csv\"\n",
        "urlretrieve(url, \"data.csv\")"
      ]
    },
    {
      "cell_type": "markdown",
      "source": [
        "hypertensive: Blood pressure higher than 180/120 mm Hg is considered a hypertensive emergency or crisis\n",
        "\n",
        "atrialfibrillation: 心房顫動\n",
        "\n",
        "CHD with no MI: 冠狀動脈心臟病 with no 心肌梗塞\n",
        "\n",
        "deficiencyanemias: 缺鐵性貧血(Iron deficiency anemia)是一種常見的貧血\n",
        "\n",
        "depression: 憂鬱\n",
        "\n",
        "Hyperlipidemia 認識高脂血症\n",
        "\n",
        "renal failure: 腎臟 failure\n",
        "\n",
        "COPD: 慢性阻塞性肺病\n",
        "\n",
        "Systolic blood pressure: 收縮壓\n",
        "\n",
        "Diastolic blood pressure: 蘇張壓\n",
        "\n",
        "Respiratory rate: 呼吸率\n",
        "\n",
        "SPO2: 血氧飽和度監測\n",
        "\n",
        "Urine output: 尿尿\n",
        "\n",
        "hematocrit: 紅血球容積比\n",
        "\n",
        "RBC: 紅血球計數\n",
        "\n",
        "MCH: 平均紅血球血紅素\n",
        "\n",
        "MCHC: 平均紅血球血紅素濃度\n",
        "\n",
        "MCV: 平均血球容積(MCV)\n",
        "\n",
        "RDW: 紅血球分布寬度\n",
        "\n",
        "Leucocyte: White blood cell\n",
        "\n",
        "Platelets: 血小板計數\n",
        "\n",
        "Neutrophils: 嗜中性球亦稱嗜中性白血球\n",
        "\n",
        "Basophils: 嗜鹼性球\n",
        "\n",
        "Lymphocyte: 淋巴球\n",
        "\n",
        "PT: 凝血脢原時間\n",
        "\n",
        "INR: INR =(Patient’s PT/MNPT)ISI, 跟PT有關\n",
        "\n",
        "NT-proBNP: 定量血漿中的NT-ProBNP，可幫助診斷充血性心衰竭\n",
        "\n",
        "Creatine kinase: 肌酸激酶\n",
        "\n",
        "Creatinine: 肌酸酐\n",
        "\n",
        "Urea nitrogen: 血中尿素氮\n",
        "\n",
        "glucose: 葡萄糖\n",
        "\n",
        "Blood potassium: 鉀\n",
        "\n",
        "Blood sodium: 鈉\n",
        "\n",
        "Blood calcium: 鈣\n",
        "\n",
        "Chloride: 氯化物\n",
        "\n",
        "Anion gap: 陰離子間隙\n",
        "\n",
        "Magnesium ion: Mg 2+\n",
        "\n",
        "PH: 酸鹼\n",
        "\n",
        "Bicarbonate: HCO−3.\n",
        "\n",
        "Lactic acid: 乳酸\n",
        "\n",
        "PCO2: CO2分壓\n",
        "\n",
        "EF: 收縮分率\n",
        "\n",
        "Target Variable - Outcome 0 - Alive 1 - Death"
      ],
      "metadata": {
        "id": "W8dBCT8rb-zh"
      }
    },
    {
      "cell_type": "code",
      "source": [
        "import pandas as pd\n",
        "data = pd.read_csv(\"data.csv\", encoding=\"utf-8\")\n",
        "data"
      ],
      "metadata": {
        "id": "Pv9Ux2jWZ2HQ"
      },
      "execution_count": null,
      "outputs": []
    },
    {
      "cell_type": "code",
      "source": [
        "data[\"outcome\"].value_counts()"
      ],
      "metadata": {
        "colab": {
          "base_uri": "https://localhost:8080/"
        },
        "id": "coz2e6a3eUep",
        "outputId": "52d5aca4-ce3b-4327-fbf4-bdb636d09b10"
      },
      "execution_count": 3,
      "outputs": [
        {
          "output_type": "execute_result",
          "data": {
            "text/plain": [
              "0.0    1017\n",
              "1.0     159\n",
              "Name: outcome, dtype: int64"
            ]
          },
          "metadata": {},
          "execution_count": 3
        }
      ]
    }
  ]
}